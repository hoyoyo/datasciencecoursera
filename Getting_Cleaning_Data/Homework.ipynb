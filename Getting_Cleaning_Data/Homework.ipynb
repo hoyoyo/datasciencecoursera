{
 "cells": [
  {
   "cell_type": "code",
   "execution_count": 1,
   "metadata": {
    "collapsed": false
   },
   "outputs": [],
   "source": [
    "import pandas as pd\n",
    "import numpy as np\n",
    "import urllib2\n",
    "import os\n",
    "import xlrd\n",
    "from xml.etree import ElementTree\n",
    "from lxml import objectify\n",
    "import urllib\n",
    "from pandas_datareader import data"
   ]
  },
  {
   "cell_type": "markdown",
   "metadata": {},
   "source": [
    "# Quiz 1"
   ]
  },
  {
   "cell_type": "markdown",
   "metadata": {},
   "source": [
    "### Question 1"
   ]
  },
  {
   "cell_type": "markdown",
   "metadata": {},
   "source": [
    "The American Community Survey distributes downloadable data about United States communities. Download the 2006 microdata survey about housing for the state of Idaho using download.file() from here: \n",
    "\n",
    "https://d396qusza40orc.cloudfront.net/getdata%2Fdata%2Fss06hid.csv \n",
    "\n",
    "and load the data into R. The code book, describing the variable names is here: \n",
    "\n",
    "https://d396qusza40orc.cloudfront.net/getdata%2Fdata%2FPUMSDataDict06.pdf \n",
    "\n",
    "How many properties are worth $1,000,000 or more?"
   ]
  },
  {
   "cell_type": "code",
   "execution_count": 2,
   "metadata": {
    "collapsed": true
   },
   "outputs": [],
   "source": [
    "# read the url\n",
    "url = \"https://d396qusza40orc.cloudfront.net/getdata%2Fdata%2Fss06hid.csv\"\n",
    "link = urllib2.urlopen(url)\n",
    "\n",
    "# open the csv\n",
    "data = pd.read_csv(link)"
   ]
  },
  {
   "cell_type": "markdown",
   "metadata": {},
   "source": [
    "Property value attribute: VAL\n",
    "Value worth more than $1000000 corresponds to code 24"
   ]
  },
  {
   "cell_type": "code",
   "execution_count": 3,
   "metadata": {
    "collapsed": false
   },
   "outputs": [
    {
     "data": {
      "text/plain": [
       "(53, 188)"
      ]
     },
     "execution_count": 3,
     "metadata": {},
     "output_type": "execute_result"
    }
   ],
   "source": [
    "data[data['VAL'] == 24].shape"
   ]
  },
  {
   "cell_type": "markdown",
   "metadata": {},
   "source": [
    "### Question 3"
   ]
  },
  {
   "cell_type": "markdown",
   "metadata": {},
   "source": [
    "Download the Excel spreadsheet on Natural Gas Aquisition Program here: \n",
    "\n",
    "https://d396qusza40orc.cloudfront.net/getdata%2Fdata%2FDATA.gov_NGAP.xlsx \n",
    "\n",
    "Read rows 18-23 and columns 7-15 into R and assign the result to a variable called:  \n",
    " dat  \n",
    "What is the value of:\n",
    "\n",
    "    sum(dat$Zip*dat$Ext,na.rm=T) "
   ]
  },
  {
   "cell_type": "code",
   "execution_count": 4,
   "metadata": {
    "collapsed": false
   },
   "outputs": [
    {
     "name": "stderr",
     "output_type": "stream",
     "text": [
      "--2015-11-11 18:46:46--  https://d396qusza40orc.cloudfront.net/getdata%2Fdata%2FDATA.gov_NGAP.xlsx\n",
      "Resolving d396qusza40orc.cloudfront.net (d396qusza40orc.cloudfront.net)... 54.230.4.126, 54.192.7.140, 54.230.4.254, ...\n",
      "Connecting to d396qusza40orc.cloudfront.net (d396qusza40orc.cloudfront.net)|54.230.4.126|:443... connected.\n",
      "HTTP request sent, awaiting response... 200 OK\n",
      "Length: 16197 (16K) [application/vnd.openxmlformats-officedocument.spreadsheetml.sheet]\n",
      "Saving to: ‘getdata%2Fdata%2FDATA.gov_NGAP.xlsx’\n",
      "\n",
      "     0K .......... .....                                      100%  148M=0s\n",
      "\n",
      "2015-11-11 18:46:46 (148 MB/s) - ‘getdata%2Fdata%2FDATA.gov_NGAP.xlsx’ saved [16197/16197]\n",
      "\n"
     ]
    }
   ],
   "source": [
    "%%bash\n",
    "wget https://d396qusza40orc.cloudfront.net/getdata%2Fdata%2FDATA.gov_NGAP.xlsx"
   ]
  },
  {
   "cell_type": "code",
   "execution_count": 5,
   "metadata": {
    "collapsed": false
   },
   "outputs": [],
   "source": [
    "# To load the excel file, pandas requires the sheet name, xlrd serves the purpose\n",
    "xls = xlrd.open_workbook(r'getdata%2Fdata%2FDATA.gov_NGAP.xlsx', on_demand=True)\n",
    "sheet_name = xls.sheet_names()[0]\n",
    "\n",
    "xls = pd.ExcelFile(\"getdata%2Fdata%2FDATA.gov_NGAP.xlsx\")\n",
    "df = xls.parse(sheet_name)\n",
    "\n",
    "# xls = pd.read_excel(\"getdata%2Fdata%2FDATA.gov_NGAP.xlsx\", 0) \n",
    "# 0 is default, read the 1st sheet, None, all sheets as a dictionary of DataFrames"
   ]
  },
  {
   "cell_type": "code",
   "execution_count": 6,
   "metadata": {
    "collapsed": false
   },
   "outputs": [],
   "source": [
    "dat = df.iloc[17:23, [6,11]]\n",
    "dat = dat.dropna(axis=0)"
   ]
  },
  {
   "cell_type": "code",
   "execution_count": 7,
   "metadata": {
    "collapsed": false
   },
   "outputs": [
    {
     "name": "stdout",
     "output_type": "stream",
     "text": [
      "36534720\n"
     ]
    }
   ],
   "source": [
    "print sum(dat.iloc[:, 0] * dat.iloc[:, 1])"
   ]
  },
  {
   "cell_type": "code",
   "execution_count": 8,
   "metadata": {
    "collapsed": true
   },
   "outputs": [],
   "source": [
    "os.remove(\"getdata%2Fdata%2FDATA.gov_NGAP.xlsx\")"
   ]
  },
  {
   "cell_type": "markdown",
   "metadata": {},
   "source": [
    "### Question 4"
   ]
  },
  {
   "cell_type": "markdown",
   "metadata": {},
   "source": [
    "Read the XML data on Baltimore restaurants from here: \n",
    "\n",
    "https://d396qusza40orc.cloudfront.net/getdata%2Fdata%2Frestaurants.xml \n",
    "\n",
    "How many restaurants have zipcode 21231?"
   ]
  },
  {
   "cell_type": "code",
   "execution_count": 9,
   "metadata": {
    "collapsed": false
   },
   "outputs": [
    {
     "name": "stderr",
     "output_type": "stream",
     "text": [
      "--2015-11-11 18:46:47--  https://d396qusza40orc.cloudfront.net/getdata%2Fdata%2Frestaurants.xml\n",
      "Resolving d396qusza40orc.cloudfront.net (d396qusza40orc.cloudfront.net)... 54.230.5.98, 54.192.7.146, 54.192.7.140, ...\n",
      "Connecting to d396qusza40orc.cloudfront.net (d396qusza40orc.cloudfront.net)|54.230.5.98|:443... connected.\n",
      "HTTP request sent, awaiting response... 200 OK\n",
      "Length: 695658 (679K) [text/xml]\n",
      "Saving to: ‘getdata%2Fdata%2Frestaurants.xml’\n",
      "\n",
      "     0K .......... .......... .......... .......... ..........  7%  658K 1s\n",
      "    50K .......... .......... .......... .......... .......... 14% 1.44M 1s\n",
      "   100K .......... .......... .......... .......... .......... 22% 1.13M 1s\n",
      "   150K .......... .......... .......... .......... .......... 29% 1.43M 0s\n",
      "   200K .......... .......... .......... .......... .......... 36% 1.42M 0s\n",
      "   250K .......... .......... .......... .......... .......... 44% 1.50M 0s\n",
      "   300K .......... .......... .......... .......... .......... 51% 1.47M 0s\n",
      "   350K .......... .......... .......... .......... .......... 58% 1.97M 0s\n",
      "   400K .......... .......... .......... .......... .......... 66% 3.94M 0s\n",
      "   450K .......... .......... .......... .......... .......... 73% 1.61M 0s\n",
      "   500K .......... .......... .......... .......... .......... 80% 2.95M 0s\n",
      "   550K .......... .......... .......... .......... .......... 88% 2.40M 0s\n",
      "   600K .......... .......... .......... .......... .......... 95% 10.1M 0s\n",
      "   650K .......... .......... .........                       100% 2.12M=0.4s\n",
      "\n",
      "2015-11-11 18:46:48 (1.62 MB/s) - ‘getdata%2Fdata%2Frestaurants.xml’ saved [695658/695658]\n",
      "\n"
     ]
    }
   ],
   "source": [
    "%%bash\n",
    "wget https://d396qusza40orc.cloudfront.net/getdata%2Fdata%2Frestaurants.xml "
   ]
  },
  {
   "cell_type": "code",
   "execution_count": 11,
   "metadata": {
    "collapsed": true
   },
   "outputs": [],
   "source": [
    "##### xmlparse = ElementTree.parse('getdata%2Fdata%2Frestaurants.xml')\n",
    "\n",
    "xmlparse = objectify.parse('getdata%2Fdata%2Frestaurants.xml')"
   ]
  },
  {
   "cell_type": "code",
   "execution_count": 12,
   "metadata": {
    "collapsed": false
   },
   "outputs": [],
   "source": [
    "root = xmlparse.getroot()\n",
    "root1 = root.getchildren()[0]\n",
    "keys = ['name', 'zipcode', 'neighborhood', 'councildistrict', 'policedistrict']\n",
    "df = pd.DataFrame(columns=keys)"
   ]
  },
  {
   "cell_type": "code",
   "execution_count": 13,
   "metadata": {
    "collapsed": false
   },
   "outputs": [],
   "source": [
    "index = 1\n",
    "for element in root1.getchildren():\n",
    "    dct = {}\n",
    "    for sub_element in element.getiterator():\n",
    "        dct[sub_element.tag] = sub_element.text\n",
    "    row_s = pd.Series(dct)[keys]\n",
    "    df.loc[index] = row_s\n",
    "    index += 1"
   ]
  },
  {
   "cell_type": "code",
   "execution_count": 14,
   "metadata": {
    "collapsed": false
   },
   "outputs": [],
   "source": [
    "df = df.convert_objects(convert_numeric=True)"
   ]
  },
  {
   "cell_type": "code",
   "execution_count": 15,
   "metadata": {
    "collapsed": false
   },
   "outputs": [
    {
     "data": {
      "text/plain": [
       "127"
      ]
     },
     "execution_count": 15,
     "metadata": {},
     "output_type": "execute_result"
    }
   ],
   "source": [
    "df[df.zipcode == 21231].shape[0]"
   ]
  },
  {
   "cell_type": "code",
   "execution_count": 16,
   "metadata": {
    "collapsed": false
   },
   "outputs": [],
   "source": [
    "os.remove(\"getdata%2Fdata%2Frestaurants.xml\")"
   ]
  },
  {
   "cell_type": "markdown",
   "metadata": {
    "collapsed": true
   },
   "source": [
    "### Question 5"
   ]
  },
  {
   "cell_type": "markdown",
   "metadata": {},
   "source": [
    "Read this data set into R and report the sum of the numbers in the fourth of the nine columns. \n",
    "\n",
    "https://d396qusza40orc.cloudfront.net/getdata%2Fwksst8110.for "
   ]
  },
  {
   "cell_type": "code",
   "execution_count": 17,
   "metadata": {
    "collapsed": false
   },
   "outputs": [
    {
     "name": "stdout",
     "output_type": "stream",
     "text": [
      " Weekly SST data starts week centered on 3Jan1990\n",
      "\n",
      "                Nino1+2      Nino3        Nino34        Nino4\n",
      " Week          SST SSTA     SST SSTA     SST SSTA     SST SSTA\n",
      " 03JAN1990     23.4-0.4     25.1-0.3     26.6 0.0     28.6 0.3\n",
      " 10JAN1990     23.4-0.8     25.2-0.3     26.6 0.1     28.6 0.3\n",
      " 17JAN1990     24.2-0.3     25.3-0.3     26.5-0.1     28.6 0.3\n",
      " 24JAN1990     24.4-0.5     25.5-0.4     26.5-0.1     28.4 0.2\n",
      " 31JAN1990     25.1-0.2     25.8-0.2     26.7 0.1     28.4 0.2\n",
      " 07FEB1990     25.8 0.2     26.1-0.1     26.8 0.1     28.4 0.3\n"
     ]
    },
    {
     "name": "stderr",
     "output_type": "stream",
     "text": [
      "--2015-11-11 18:48:26--  https://d396qusza40orc.cloudfront.net/getdata%2Fwksst8110.for\n",
      "Resolving d396qusza40orc.cloudfront.net (d396qusza40orc.cloudfront.net)... 54.192.7.140, 54.230.5.98, 54.192.4.210, ...\n",
      "Connecting to d396qusza40orc.cloudfront.net (d396qusza40orc.cloudfront.net)|54.192.7.140|:443... connected.\n",
      "HTTP request sent, awaiting response... 200 OK\n",
      "Length: 79178 (77K) [application/octet-stream]\n",
      "Saving to: ‘getdata%2Fwksst8110.for’\n",
      "\n",
      "     0K .......... .......... .......... .......... .......... 64% 1.05M 0s\n",
      "    50K .......... .......... .......                         100% 6.06M=0.05s\n",
      "\n",
      "2015-11-11 18:48:27 (1.48 MB/s) - ‘getdata%2Fwksst8110.for’ saved [79178/79178]\n",
      "\n"
     ]
    }
   ],
   "source": [
    "%%bash\n",
    "wget https://d396qusza40orc.cloudfront.net/getdata%2Fwksst8110.for\n",
    "head getdata%2Fwksst8110.for"
   ]
  },
  {
   "cell_type": "code",
   "execution_count": 18,
   "metadata": {
    "collapsed": false
   },
   "outputs": [],
   "source": [
    "names = ['Week', 'SST1+2', 'SSTA1+2', 'SST3', 'SSTA3', 'SST34', 'SSTA34', 'SST4', 'SSTA4']\n",
    "colspecs = [(0,10),(15,19),(19,23),(28,32),(32,36),(41,45),(45,49),(54,58),(58,62)]\n",
    "\n",
    "df = pd.read_fwf(\"getdata%2Fwksst8110.for\", header=None, names=names, skiprows=4, colspecs=colspecs)"
   ]
  },
  {
   "cell_type": "code",
   "execution_count": 19,
   "metadata": {
    "collapsed": false
   },
   "outputs": [
    {
     "data": {
      "text/html": [
       "<div style=\"max-height:1000px;max-width:1500px;overflow:auto;\">\n",
       "<table border=\"1\" class=\"dataframe\">\n",
       "  <thead>\n",
       "    <tr style=\"text-align: right;\">\n",
       "      <th></th>\n",
       "      <th>Week</th>\n",
       "      <th>SST1+2</th>\n",
       "      <th>SSTA1+2</th>\n",
       "      <th>SST3</th>\n",
       "      <th>SSTA3</th>\n",
       "      <th>SST34</th>\n",
       "      <th>SSTA34</th>\n",
       "      <th>SST4</th>\n",
       "      <th>SSTA4</th>\n",
       "    </tr>\n",
       "  </thead>\n",
       "  <tbody>\n",
       "    <tr>\n",
       "      <th>0</th>\n",
       "      <td> 03JAN1990</td>\n",
       "      <td> 23.4</td>\n",
       "      <td>-0.4</td>\n",
       "      <td> 25.1</td>\n",
       "      <td>-0.3</td>\n",
       "      <td> 26.6</td>\n",
       "      <td> 0.0</td>\n",
       "      <td> 28.6</td>\n",
       "      <td> 0.3</td>\n",
       "    </tr>\n",
       "    <tr>\n",
       "      <th>1</th>\n",
       "      <td> 10JAN1990</td>\n",
       "      <td> 23.4</td>\n",
       "      <td>-0.8</td>\n",
       "      <td> 25.2</td>\n",
       "      <td>-0.3</td>\n",
       "      <td> 26.6</td>\n",
       "      <td> 0.1</td>\n",
       "      <td> 28.6</td>\n",
       "      <td> 0.3</td>\n",
       "    </tr>\n",
       "    <tr>\n",
       "      <th>2</th>\n",
       "      <td> 17JAN1990</td>\n",
       "      <td> 24.2</td>\n",
       "      <td>-0.3</td>\n",
       "      <td> 25.3</td>\n",
       "      <td>-0.3</td>\n",
       "      <td> 26.5</td>\n",
       "      <td>-0.1</td>\n",
       "      <td> 28.6</td>\n",
       "      <td> 0.3</td>\n",
       "    </tr>\n",
       "    <tr>\n",
       "      <th>3</th>\n",
       "      <td> 24JAN1990</td>\n",
       "      <td> 24.4</td>\n",
       "      <td>-0.5</td>\n",
       "      <td> 25.5</td>\n",
       "      <td>-0.4</td>\n",
       "      <td> 26.5</td>\n",
       "      <td>-0.1</td>\n",
       "      <td> 28.4</td>\n",
       "      <td> 0.2</td>\n",
       "    </tr>\n",
       "    <tr>\n",
       "      <th>4</th>\n",
       "      <td> 31JAN1990</td>\n",
       "      <td> 25.1</td>\n",
       "      <td>-0.2</td>\n",
       "      <td> 25.8</td>\n",
       "      <td>-0.2</td>\n",
       "      <td> 26.7</td>\n",
       "      <td> 0.1</td>\n",
       "      <td> 28.4</td>\n",
       "      <td> 0.2</td>\n",
       "    </tr>\n",
       "  </tbody>\n",
       "</table>\n",
       "<p>5 rows × 9 columns</p>\n",
       "</div>"
      ],
      "text/plain": [
       "        Week  SST1+2  SSTA1+2  SST3  SSTA3  SST34  SSTA34  SST4  SSTA4\n",
       "0  03JAN1990    23.4     -0.4  25.1   -0.3   26.6     0.0  28.6    0.3\n",
       "1  10JAN1990    23.4     -0.8  25.2   -0.3   26.6     0.1  28.6    0.3\n",
       "2  17JAN1990    24.2     -0.3  25.3   -0.3   26.5    -0.1  28.6    0.3\n",
       "3  24JAN1990    24.4     -0.5  25.5   -0.4   26.5    -0.1  28.4    0.2\n",
       "4  31JAN1990    25.1     -0.2  25.8   -0.2   26.7     0.1  28.4    0.2\n",
       "\n",
       "[5 rows x 9 columns]"
      ]
     },
     "execution_count": 19,
     "metadata": {},
     "output_type": "execute_result"
    }
   ],
   "source": [
    "df.head()"
   ]
  },
  {
   "cell_type": "code",
   "execution_count": 20,
   "metadata": {
    "collapsed": false
   },
   "outputs": [
    {
     "data": {
      "text/plain": [
       "32426.699999999986"
      ]
     },
     "execution_count": 20,
     "metadata": {},
     "output_type": "execute_result"
    }
   ],
   "source": [
    "sum(df['SST3'])"
   ]
  },
  {
   "cell_type": "code",
   "execution_count": 21,
   "metadata": {
    "collapsed": true
   },
   "outputs": [],
   "source": [
    "os.remove(\"getdata%2Fwksst8110.for\")"
   ]
  },
  {
   "cell_type": "markdown",
   "metadata": {},
   "source": [
    "# Quiz 3"
   ]
  },
  {
   "cell_type": "markdown",
   "metadata": {},
   "source": [
    "### Question 1"
   ]
  },
  {
   "cell_type": "markdown",
   "metadata": {},
   "source": [
    "The American Community Survey distributes downloadable data about United States communities. Download the 2006 microdata survey about housing for the state of Idaho using download.file() from here: \n",
    "\n",
    "https://d396qusza40orc.cloudfront.net/getdata%2Fdata%2Fss06hid.csv \n",
    "\n",
    "and load the data into R. The code book, describing the variable names is here: \n",
    "\n",
    "https://d396qusza40orc.cloudfront.net/getdata%2Fdata%2FPUMSDataDict06.pdf \n",
    "\n",
    "Create a logical vector that identifies the households on greater than 10 acres who sold more than $10,000 worth of agriculture products. Assign that logical vector to the variable agricultureLogical. Apply the which() function like this to identify the rows of the data frame where the logical vector is TRUE. which(agricultureLogical) What are the first 3 values that result?"
   ]
  },
  {
   "cell_type": "code",
   "execution_count": 22,
   "metadata": {
    "collapsed": false
   },
   "outputs": [
    {
     "name": "stderr",
     "output_type": "stream",
     "text": [
      "--2015-11-11 18:48:38--  https://d396qusza40orc.cloudfront.net/getdata%2Fdata%2Fss06hid.csv\n",
      "Resolving d396qusza40orc.cloudfront.net (d396qusza40orc.cloudfront.net)... 54.192.7.140, 54.192.4.210, 54.230.4.126, ...\n",
      "Connecting to d396qusza40orc.cloudfront.net (d396qusza40orc.cloudfront.net)|54.192.7.140|:443... connected.\n",
      "HTTP request sent, awaiting response... 200 OK\n",
      "Length: 4246554 (4.0M) [text/csv]\n",
      "Saving to: ‘getdata%2Fdata%2Fss06hid.csv’\n",
      "\n",
      "     0K .......... .......... .......... .......... ..........  1%  777K 5s\n",
      "    50K .......... .......... .......... .......... ..........  2% 1.10M 4s\n",
      "   100K .......... .......... .......... .......... ..........  3% 1.49M 4s\n",
      "   150K .......... .......... .......... .......... ..........  4% 5.19M 3s\n",
      "   200K .......... .......... .......... .......... ..........  6% 1.69M 3s\n",
      "   250K .......... .......... .......... .......... ..........  7% 2.35M 3s\n",
      "   300K .......... .......... .......... .......... ..........  8% 5.11M 2s\n",
      "   350K .......... .......... .......... .......... ..........  9% 3.02M 2s\n",
      "   400K .......... .......... .......... .......... .......... 10% 5.74M 2s\n",
      "   450K .......... .......... .......... .......... .......... 12% 2.68M 2s\n",
      "   500K .......... .......... .......... .......... .......... 13% 11.3M 2s\n",
      "   550K .......... .......... .......... .......... .......... 14% 4.18M 2s\n",
      "   600K .......... .......... .......... .......... .......... 15% 4.55M 2s\n",
      "   650K .......... .......... .......... .......... .......... 16% 3.28M 1s\n",
      "   700K .......... .......... .......... .......... .......... 18% 7.14M 1s\n",
      "   750K .......... .......... .......... .......... .......... 19% 11.9M 1s\n",
      "   800K .......... .......... .......... .......... .......... 20% 5.73M 1s\n",
      "   850K .......... .......... .......... .......... .......... 21% 3.12M 1s\n",
      "   900K .......... .......... .......... .......... .......... 22% 14.8M 1s\n",
      "   950K .......... .......... .......... .......... .......... 24% 4.24M 1s\n",
      "  1000K .......... .......... .......... .......... .......... 25% 9.12M 1s\n",
      "  1050K .......... .......... .......... .......... .......... 26% 7.60M 1s\n",
      "  1100K .......... .......... .......... .......... .......... 27% 11.2M 1s\n",
      "  1150K .......... .......... .......... .......... .......... 28% 4.59M 1s\n",
      "  1200K .......... .......... .......... .......... .......... 30% 12.2M 1s\n",
      "  1250K .......... .......... .......... .......... .......... 31% 12.0M 1s\n",
      "  1300K .......... .......... .......... .......... .......... 32% 7.51M 1s\n",
      "  1350K .......... .......... .......... .......... .......... 33% 4.29M 1s\n",
      "  1400K .......... .......... .......... .......... .......... 34% 8.80M 1s\n",
      "  1450K .......... .......... .......... .......... .......... 36% 11.9M 1s\n",
      "  1500K .......... .......... .......... .......... .......... 37% 4.26M 1s\n",
      "  1550K .......... .......... .......... .......... .......... 38% 10.9M 1s\n",
      "  1600K .......... .......... .......... .......... .......... 39% 12.2M 1s\n",
      "  1650K .......... .......... .......... .......... .......... 40% 8.62M 1s\n",
      "  1700K .......... .......... .......... .......... .......... 42% 4.95M 1s\n",
      "  1750K .......... .......... .......... .......... .......... 43% 9.80M 1s\n",
      "  1800K .......... .......... .......... .......... .......... 44% 14.2M 1s\n",
      "  1850K .......... .......... .......... .......... .......... 45% 9.41M 1s\n",
      "  1900K .......... .......... .......... .......... .......... 47% 6.91M 1s\n",
      "  1950K .......... .......... .......... .......... .......... 48% 5.03M 1s\n",
      "  2000K .......... .......... .......... .......... .......... 49% 11.6M 0s\n",
      "  2050K .......... .......... .......... .......... .......... 50% 10.2M 0s\n",
      "  2100K .......... .......... .......... .......... .......... 51% 12.2M 0s\n",
      "  2150K .......... .......... .......... .......... .......... 53% 15.6M 0s\n",
      "  2200K .......... .......... .......... .......... .......... 54% 11.5M 0s\n",
      "  2250K .......... .......... .......... .......... .......... 55% 3.61M 0s\n",
      "  2300K .......... .......... .......... .......... .......... 56% 14.8M 0s\n",
      "  2350K .......... .......... .......... .......... .......... 57% 13.5M 0s\n",
      "  2400K .......... .......... .......... .......... .......... 59% 10.9M 0s\n",
      "  2450K .......... .......... .......... .......... .......... 60% 5.27M 0s\n",
      "  2500K .......... .......... .......... .......... .......... 61% 4.64M 0s\n",
      "  2550K .......... .......... .......... .......... .......... 62%  103M 0s\n",
      "  2600K .......... .......... .......... .......... .......... 63% 19.0M 0s\n",
      "  2650K .......... .......... .......... .......... .......... 65% 7.92M 0s\n",
      "  2700K .......... .......... .......... .......... .......... 66% 6.19M 0s\n",
      "  2750K .......... .......... .......... .......... .......... 67% 9.42M 0s\n",
      "  2800K .......... .......... .......... .......... .......... 68% 30.6M 0s\n",
      "  2850K .......... .......... .......... .......... .......... 69% 6.29M 0s\n",
      "  2900K .......... .......... .......... .......... .......... 71% 11.1M 0s\n",
      "  2950K .......... .......... .......... .......... .......... 72% 10.8M 0s\n",
      "  3000K .......... .......... .......... .......... .......... 73% 15.7M 0s\n",
      "  3050K .......... .......... .......... .......... .......... 74% 9.25M 0s\n",
      "  3100K .......... .......... .......... .......... .......... 75% 6.66M 0s\n",
      "  3150K .......... .......... .......... .......... .......... 77% 7.40M 0s\n",
      "  3200K .......... .......... .......... .......... .......... 78% 10.7M 0s\n",
      "  3250K .......... .......... .......... .......... .......... 79% 11.8M 0s\n",
      "  3300K .......... .......... .......... .......... .......... 80% 14.6M 0s\n",
      "  3350K .......... .......... .......... .......... .......... 81% 11.4M 0s\n",
      "  3400K .......... .......... .......... .......... .......... 83% 5.75M 0s\n",
      "  3450K .......... .......... .......... .......... .......... 84% 10.0M 0s\n",
      "  3500K .......... .......... .......... .......... .......... 85% 11.0M 0s\n",
      "  3550K .......... .......... .......... .......... .......... 86% 11.0M 0s\n",
      "  3600K .......... .......... .......... .......... .......... 88% 8.11M 0s\n",
      "  3650K .......... .......... .......... .......... .......... 89% 6.91M 0s\n",
      "  3700K .......... .......... .......... .......... .......... 90% 10.9M 0s\n",
      "  3750K .......... .......... .......... .......... .......... 91% 14.4M 0s\n",
      "  3800K .......... .......... .......... .......... .......... 92% 12.3M 0s\n",
      "  3850K .......... .......... .......... .......... .......... 94% 5.08M 0s\n",
      "  3900K .......... .......... .......... .......... .......... 95% 13.7M 0s\n",
      "  3950K .......... .......... .......... .......... .......... 96% 6.57M 0s\n",
      "  4000K .......... .......... .......... .......... .......... 97% 12.3M 0s\n",
      "  4050K .......... .......... .......... .......... .......... 98% 13.7M 0s\n",
      "  4100K .......... .......... .......... .......... .......   100% 6.55M=0.7s\n",
      "\n",
      "2015-11-11 18:48:39 (5.79 MB/s) - ‘getdata%2Fdata%2Fss06hid.csv’ saved [4246554/4246554]\n",
      "\n"
     ]
    }
   ],
   "source": [
    "%%bash\n",
    "wget https://d396qusza40orc.cloudfront.net/getdata%2Fdata%2Fss06hid.csv"
   ]
  },
  {
   "cell_type": "markdown",
   "metadata": {
    "collapsed": true
   },
   "source": [
    "r:  \n",
    "\n",
    "        data <- read.csv(\"getdata%2Fdata%2Fss06hid.csv\")\n",
    "        acre <- data['ACR'] == 3\n",
    "        agri <- data['AGS'] == 6\n",
    "        data['agricultureLOgical'] <- acre & agri\n",
    "        which(data$agricultureLogical)"
   ]
  },
  {
   "cell_type": "code",
   "execution_count": 23,
   "metadata": {
    "collapsed": false
   },
   "outputs": [
    {
     "data": {
      "text/plain": [
       "(6496, 188)"
      ]
     },
     "execution_count": 23,
     "metadata": {},
     "output_type": "execute_result"
    }
   ],
   "source": [
    "data = pd.read_csv(\"getdata%2Fdata%2Fss06hid.csv\")\n",
    "data.shape"
   ]
  },
  {
   "cell_type": "code",
   "execution_count": 24,
   "metadata": {
    "collapsed": false
   },
   "outputs": [
    {
     "data": {
      "text/plain": [
       "(6496, 189)"
      ]
     },
     "execution_count": 24,
     "metadata": {},
     "output_type": "execute_result"
    }
   ],
   "source": [
    "acre = data['ACR'] == 3\n",
    "agri = data.AGS == 6\n",
    "data['agricultureLogical'] = acre & agri\n",
    "data.shape"
   ]
  },
  {
   "cell_type": "code",
   "execution_count": 25,
   "metadata": {
    "collapsed": false
   },
   "outputs": [
    {
     "data": {
      "text/plain": [
       "Int64Index([125, 238, 262], dtype='int64')"
      ]
     },
     "execution_count": 25,
     "metadata": {},
     "output_type": "execute_result"
    }
   ],
   "source": [
    "data[data['agricultureLogical']].index[:3] + 1"
   ]
  },
  {
   "cell_type": "code",
   "execution_count": 26,
   "metadata": {
    "collapsed": true
   },
   "outputs": [],
   "source": [
    "os.remove(\"getdata%2Fdata%2Fss06hid.csv\")"
   ]
  },
  {
   "cell_type": "markdown",
   "metadata": {},
   "source": [
    "### Question 2"
   ]
  },
  {
   "cell_type": "markdown",
   "metadata": {},
   "source": [
    "Using the jpeg package read in the following picture of your instructor into R \n",
    "\n",
    "https://d396qusza40orc.cloudfront.net/getdata%2Fjeff.jpg \n",
    "\n",
    "Use the parameter native=TRUE. What are the 30th and 80th quantiles of the resulting data? (some Linux systems may produce an answer 638 different for the 30th quantile)"
   ]
  },
  {
   "cell_type": "code",
   "execution_count": 27,
   "metadata": {
    "collapsed": false
   },
   "outputs": [
    {
     "name": "stderr",
     "output_type": "stream",
     "text": [
      "--2015-11-11 18:48:50--  https://d396qusza40orc.cloudfront.net/getdata%2Fjeff.jpg\n",
      "Resolving d396qusza40orc.cloudfront.net (d396qusza40orc.cloudfront.net)... 54.192.4.210, 54.230.5.98, 54.230.4.126, ...\n",
      "Connecting to d396qusza40orc.cloudfront.net (d396qusza40orc.cloudfront.net)|54.192.4.210|:443... connected.\n",
      "HTTP request sent, awaiting response... 200 OK\n",
      "Length: 23849 (23K) [image/jpeg]\n",
      "Saving to: ‘getdata%2Fjeff.jpg’\n",
      "\n",
      "     0K .......... .......... ...                             100%  558K=0.04s\n",
      "\n",
      "2015-11-11 18:48:51 (558 KB/s) - ‘getdata%2Fjeff.jpg’ saved [23849/23849]\n",
      "\n"
     ]
    }
   ],
   "source": [
    "%%bash\n",
    "wget https://d396qusza40orc.cloudfront.net/getdata%2Fjeff.jpg"
   ]
  },
  {
   "cell_type": "markdown",
   "metadata": {},
   "source": [
    "r:  \n",
    "\n",
    "    library(jpeg) # install jpeg if not exists\n",
    "    data <- jpeg::readJPEG(\"get*.jpg\", native = T)\n",
    "    quantile(data, probs=c(0.3, 0.8), na.rm=T)"
   ]
  },
  {
   "cell_type": "code",
   "execution_count": 28,
   "metadata": {
    "collapsed": true
   },
   "outputs": [],
   "source": [
    "os.remove(\"getdata%2Fjeff.jpg\")"
   ]
  },
  {
   "cell_type": "markdown",
   "metadata": {
    "collapsed": true
   },
   "source": [
    "### Question 3"
   ]
  },
  {
   "cell_type": "markdown",
   "metadata": {},
   "source": [
    "Load the Gross Domestic Product data for the 190 ranked countries in this data set: \n",
    "\n",
    "https://d396qusza40orc.cloudfront.net/getdata%2Fdata%2FGDP.csv \n",
    "\n",
    "Load the educational data from this data set: \n",
    "\n",
    "https://d396qusza40orc.cloudfront.net/getdata%2Fdata%2FEDSTATS_Country.csv \n",
    "\n",
    "Match the data based on the country shortcode. How many of the IDs match? Sort the data frame in descending order by GDP rank (so United States is last). What is the 13th country in the resulting data frame? \n",
    "\n",
    "Original data sources: \n",
    "http://data.worldbank.org/data-catalog/GDP-ranking-table \n",
    "http://data.worldbank.org/data-catalog/ed-stats"
   ]
  },
  {
   "cell_type": "markdown",
   "metadata": {},
   "source": [
    "** Convert the column to the proper before sorting the data **"
   ]
  },
  {
   "cell_type": "code",
   "execution_count": 29,
   "metadata": {
    "collapsed": false
   },
   "outputs": [
    {
     "name": "stderr",
     "output_type": "stream",
     "text": [
      "--2015-11-11 18:48:56--  https://d396qusza40orc.cloudfront.net/getdata%2Fdata%2FGDP.csv\n",
      "Resolving d396qusza40orc.cloudfront.net (d396qusza40orc.cloudfront.net)... 54.192.7.140, 54.230.4.254, 54.192.7.146, ...\n",
      "Connecting to d396qusza40orc.cloudfront.net (d396qusza40orc.cloudfront.net)|54.192.7.140|:443... connected.\n",
      "HTTP request sent, awaiting response... 200 OK\n",
      "Length: 9630 (9.4K) [text/csv]\n",
      "Saving to: ‘getdata%2Fdata%2FGDP.csv’\n",
      "\n",
      "     0K .........                                             100%  130K=0.07s\n",
      "\n",
      "2015-11-11 18:48:58 (130 KB/s) - ‘getdata%2Fdata%2FGDP.csv’ saved [9630/9630]\n",
      "\n",
      "--2015-11-11 18:48:58--  https://d396qusza40orc.cloudfront.net/getdata%2Fdata%2FEDSTATS_Country.csv\n",
      "Resolving d396qusza40orc.cloudfront.net (d396qusza40orc.cloudfront.net)... 54.192.4.210, 54.230.5.98, 54.230.4.126, ...\n",
      "Connecting to d396qusza40orc.cloudfront.net (d396qusza40orc.cloudfront.net)|54.192.4.210|:443... connected.\n",
      "HTTP request sent, awaiting response... 200 OK\n",
      "Length: 59792 (58K) [text/csv]\n",
      "Saving to: ‘getdata%2Fdata%2FEDSTATS_Country.csv’\n",
      "\n",
      "     0K .......... .......... .......... .......... .......... 85%  688K 0s\n",
      "    50K ........                                              100% 94.3M=0.07s\n",
      "\n",
      "2015-11-11 18:48:58 (803 KB/s) - ‘getdata%2Fdata%2FEDSTATS_Country.csv’ saved [59792/59792]\n",
      "\n"
     ]
    }
   ],
   "source": [
    "%%bash\n",
    "wget https://d396qusza40orc.cloudfront.net/getdata%2Fdata%2FGDP.csv\n",
    "wget https://d396qusza40orc.cloudfront.net/getdata%2Fdata%2FEDSTATS_Country.csv"
   ]
  },
  {
   "cell_type": "code",
   "execution_count": 3,
   "metadata": {
    "collapsed": false
   },
   "outputs": [
    {
     "data": {
      "text/html": [
       "<div style=\"max-height:1000px;max-width:1500px;overflow:auto;\">\n",
       "<table border=\"1\" class=\"dataframe\">\n",
       "  <thead>\n",
       "    <tr style=\"text-align: right;\">\n",
       "      <th></th>\n",
       "      <th>CountryCode</th>\n",
       "      <th>Rank</th>\n",
       "      <th>Economy</th>\n",
       "      <th>Size</th>\n",
       "      <th>X.1</th>\n",
       "    </tr>\n",
       "  </thead>\n",
       "  <tbody>\n",
       "    <tr>\n",
       "      <th>0</th>\n",
       "      <td> USA</td>\n",
       "      <td> 1</td>\n",
       "      <td> United States</td>\n",
       "      <td>  16,244,600 </td>\n",
       "      <td> NaN</td>\n",
       "    </tr>\n",
       "    <tr>\n",
       "      <th>1</th>\n",
       "      <td> CHN</td>\n",
       "      <td> 2</td>\n",
       "      <td>         China</td>\n",
       "      <td>   8,227,103 </td>\n",
       "      <td> NaN</td>\n",
       "    </tr>\n",
       "    <tr>\n",
       "      <th>2</th>\n",
       "      <td> JPN</td>\n",
       "      <td> 3</td>\n",
       "      <td>         Japan</td>\n",
       "      <td>   5,959,718 </td>\n",
       "      <td> NaN</td>\n",
       "    </tr>\n",
       "    <tr>\n",
       "      <th>3</th>\n",
       "      <td> DEU</td>\n",
       "      <td> 4</td>\n",
       "      <td>       Germany</td>\n",
       "      <td>   3,428,131 </td>\n",
       "      <td> NaN</td>\n",
       "    </tr>\n",
       "    <tr>\n",
       "      <th>4</th>\n",
       "      <td> FRA</td>\n",
       "      <td> 5</td>\n",
       "      <td>        France</td>\n",
       "      <td>   2,612,878 </td>\n",
       "      <td> NaN</td>\n",
       "    </tr>\n",
       "  </tbody>\n",
       "</table>\n",
       "<p>5 rows × 5 columns</p>\n",
       "</div>"
      ],
      "text/plain": [
       "  CountryCode Rank        Economy          Size  X.1\n",
       "0         USA    1  United States   16,244,600   NaN\n",
       "1         CHN    2          China    8,227,103   NaN\n",
       "2         JPN    3          Japan    5,959,718   NaN\n",
       "3         DEU    4        Germany    3,428,131   NaN\n",
       "4         FRA    5         France    2,612,878   NaN\n",
       "\n",
       "[5 rows x 5 columns]"
      ]
     },
     "execution_count": 3,
     "metadata": {},
     "output_type": "execute_result"
    }
   ],
   "source": [
    "names = ['CountryCode', 'Rank', 'X', 'Economy', 'Size', 'X.1', 'X.2', 'X.3', 'X.4', 'X.5']\n",
    "GDP = pd.read_csv(\"getdata%2Fdata%2FGDP.csv\", sep=',', names=names, skiprows=5)\n",
    "\n",
    "# clean the DataFrame\n",
    "GDP.dropna(axis=1, how='all', inplace=True)\n",
    "GDP.dropna(axis=0, subset=['CountryCode', 'Rank'], how='any', inplace=True)\n",
    "GDP.head()"
   ]
  },
  {
   "cell_type": "code",
   "execution_count": 4,
   "metadata": {
    "collapsed": false
   },
   "outputs": [
    {
     "data": {
      "text/html": [
       "<div style=\"max-height:1000px;max-width:1500px;overflow:auto;\">\n",
       "<table border=\"1\" class=\"dataframe\">\n",
       "  <thead>\n",
       "    <tr style=\"text-align: right;\">\n",
       "      <th></th>\n",
       "      <th>CountryCode</th>\n",
       "      <th>Long Name</th>\n",
       "      <th>Income Group</th>\n",
       "      <th>Region</th>\n",
       "      <th>Lending category</th>\n",
       "      <th>Other groups</th>\n",
       "      <th>Currency Unit</th>\n",
       "      <th>Latest population census</th>\n",
       "      <th>Latest household survey</th>\n",
       "      <th>Special Notes</th>\n",
       "      <th>National accounts base year</th>\n",
       "      <th>National accounts reference year</th>\n",
       "      <th>System of National Accounts</th>\n",
       "      <th>SNA price valuation</th>\n",
       "      <th>Alternative conversion factor</th>\n",
       "      <th>PPP survey year</th>\n",
       "      <th>Balance of Payments Manual in use</th>\n",
       "      <th>External debt Reporting status</th>\n",
       "      <th>System of trade</th>\n",
       "      <th>Government Accounting concept</th>\n",
       "      <th></th>\n",
       "    </tr>\n",
       "  </thead>\n",
       "  <tbody>\n",
       "    <tr>\n",
       "      <th>0</th>\n",
       "      <td> ABW</td>\n",
       "      <td>                        Aruba</td>\n",
       "      <td> High income: nonOECD</td>\n",
       "      <td> Latin America &amp; Caribbean</td>\n",
       "      <td>  NaN</td>\n",
       "      <td>  NaN</td>\n",
       "      <td>  Aruban florin</td>\n",
       "      <td>           2000</td>\n",
       "      <td>                      NaN</td>\n",
       "      <td>                                               NaN</td>\n",
       "      <td>      1995</td>\n",
       "      <td>  NaN</td>\n",
       "      <td>  NaN</td>\n",
       "      <td> NaN</td>\n",
       "      <td>     NaN</td>\n",
       "      <td>  NaN</td>\n",
       "      <td>  NaN</td>\n",
       "      <td>    NaN</td>\n",
       "      <td> Special</td>\n",
       "      <td>          NaN</td>\n",
       "      <td>...</td>\n",
       "    </tr>\n",
       "    <tr>\n",
       "      <th>1</th>\n",
       "      <td> ADO</td>\n",
       "      <td>      Principality of Andorra</td>\n",
       "      <td> High income: nonOECD</td>\n",
       "      <td>     Europe &amp; Central Asia</td>\n",
       "      <td>  NaN</td>\n",
       "      <td>  NaN</td>\n",
       "      <td>           Euro</td>\n",
       "      <td> Register based</td>\n",
       "      <td>                      NaN</td>\n",
       "      <td>                                               NaN</td>\n",
       "      <td>       NaN</td>\n",
       "      <td>  NaN</td>\n",
       "      <td>  NaN</td>\n",
       "      <td> NaN</td>\n",
       "      <td>     NaN</td>\n",
       "      <td>  NaN</td>\n",
       "      <td>  NaN</td>\n",
       "      <td>    NaN</td>\n",
       "      <td> General</td>\n",
       "      <td>          NaN</td>\n",
       "      <td>...</td>\n",
       "    </tr>\n",
       "    <tr>\n",
       "      <th>2</th>\n",
       "      <td> AFG</td>\n",
       "      <td> Islamic State of Afghanistan</td>\n",
       "      <td>           Low income</td>\n",
       "      <td>                South Asia</td>\n",
       "      <td>  IDA</td>\n",
       "      <td> HIPC</td>\n",
       "      <td> Afghan afghani</td>\n",
       "      <td>           1979</td>\n",
       "      <td>               MICS, 2003</td>\n",
       "      <td> Fiscal year end: March 20; reporting period fo...</td>\n",
       "      <td> 2002/2003</td>\n",
       "      <td>  NaN</td>\n",
       "      <td>  NaN</td>\n",
       "      <td> VAB</td>\n",
       "      <td>     NaN</td>\n",
       "      <td>  NaN</td>\n",
       "      <td>  NaN</td>\n",
       "      <td> Actual</td>\n",
       "      <td> General</td>\n",
       "      <td> Consolidated</td>\n",
       "      <td>...</td>\n",
       "    </tr>\n",
       "    <tr>\n",
       "      <th>3</th>\n",
       "      <td> AGO</td>\n",
       "      <td>  People's Republic of Angola</td>\n",
       "      <td>  Lower middle income</td>\n",
       "      <td>        Sub-Saharan Africa</td>\n",
       "      <td>  IDA</td>\n",
       "      <td>  NaN</td>\n",
       "      <td> Angolan kwanza</td>\n",
       "      <td>           1970</td>\n",
       "      <td> MICS, 2001, MIS, 2006/07</td>\n",
       "      <td>                                               NaN</td>\n",
       "      <td>      1997</td>\n",
       "      <td>  NaN</td>\n",
       "      <td>  NaN</td>\n",
       "      <td> VAP</td>\n",
       "      <td> 1991-96</td>\n",
       "      <td> 2005</td>\n",
       "      <td> BPM5</td>\n",
       "      <td> Actual</td>\n",
       "      <td> Special</td>\n",
       "      <td>          NaN</td>\n",
       "      <td>...</td>\n",
       "    </tr>\n",
       "    <tr>\n",
       "      <th>4</th>\n",
       "      <td> ALB</td>\n",
       "      <td>          Republic of Albania</td>\n",
       "      <td>  Upper middle income</td>\n",
       "      <td>     Europe &amp; Central Asia</td>\n",
       "      <td> IBRD</td>\n",
       "      <td>  NaN</td>\n",
       "      <td>   Albanian lek</td>\n",
       "      <td>           2001</td>\n",
       "      <td>               MICS, 2005</td>\n",
       "      <td>                                               NaN</td>\n",
       "      <td>       NaN</td>\n",
       "      <td> 1996</td>\n",
       "      <td> 1993</td>\n",
       "      <td> VAB</td>\n",
       "      <td>     NaN</td>\n",
       "      <td> 2005</td>\n",
       "      <td> BPM5</td>\n",
       "      <td> Actual</td>\n",
       "      <td> General</td>\n",
       "      <td> Consolidated</td>\n",
       "      <td>...</td>\n",
       "    </tr>\n",
       "  </tbody>\n",
       "</table>\n",
       "<p>5 rows × 31 columns</p>\n",
       "</div>"
      ],
      "text/plain": [
       "  CountryCode                     Long Name          Income Group  \\\n",
       "0         ABW                         Aruba  High income: nonOECD   \n",
       "1         ADO       Principality of Andorra  High income: nonOECD   \n",
       "2         AFG  Islamic State of Afghanistan            Low income   \n",
       "3         AGO   People's Republic of Angola   Lower middle income   \n",
       "4         ALB           Republic of Albania   Upper middle income   \n",
       "\n",
       "                      Region Lending category Other groups   Currency Unit  \\\n",
       "0  Latin America & Caribbean              NaN          NaN   Aruban florin   \n",
       "1      Europe & Central Asia              NaN          NaN            Euro   \n",
       "2                 South Asia              IDA         HIPC  Afghan afghani   \n",
       "3         Sub-Saharan Africa              IDA          NaN  Angolan kwanza   \n",
       "4      Europe & Central Asia             IBRD          NaN    Albanian lek   \n",
       "\n",
       "  Latest population census   Latest household survey  \\\n",
       "0                     2000                       NaN   \n",
       "1           Register based                       NaN   \n",
       "2                     1979                MICS, 2003   \n",
       "3                     1970  MICS, 2001, MIS, 2006/07   \n",
       "4                     2001                MICS, 2005   \n",
       "\n",
       "                                       Special Notes  \\\n",
       "0                                                NaN   \n",
       "1                                                NaN   \n",
       "2  Fiscal year end: March 20; reporting period fo...   \n",
       "3                                                NaN   \n",
       "4                                                NaN   \n",
       "\n",
       "  National accounts base year  National accounts reference year  \\\n",
       "0                        1995                               NaN   \n",
       "1                         NaN                               NaN   \n",
       "2                   2002/2003                               NaN   \n",
       "3                        1997                               NaN   \n",
       "4                         NaN                              1996   \n",
       "\n",
       "   System of National Accounts SNA price valuation  \\\n",
       "0                          NaN                 NaN   \n",
       "1                          NaN                 NaN   \n",
       "2                          NaN                 VAB   \n",
       "3                          NaN                 VAP   \n",
       "4                         1993                 VAB   \n",
       "\n",
       "  Alternative conversion factor  PPP survey year  \\\n",
       "0                           NaN              NaN   \n",
       "1                           NaN              NaN   \n",
       "2                           NaN              NaN   \n",
       "3                       1991-96             2005   \n",
       "4                           NaN             2005   \n",
       "\n",
       "  Balance of Payments Manual in use External debt Reporting status  \\\n",
       "0                               NaN                            NaN   \n",
       "1                               NaN                            NaN   \n",
       "2                               NaN                         Actual   \n",
       "3                              BPM5                         Actual   \n",
       "4                              BPM5                         Actual   \n",
       "\n",
       "  System of trade Government Accounting concept      \n",
       "0         Special                           NaN ...  \n",
       "1         General                           NaN ...  \n",
       "2         General                  Consolidated ...  \n",
       "3         Special                           NaN ...  \n",
       "4         General                  Consolidated ...  \n",
       "\n",
       "[5 rows x 31 columns]"
      ]
     },
     "execution_count": 4,
     "metadata": {},
     "output_type": "execute_result"
    }
   ],
   "source": [
    "FEDSTATS = pd.read_csv(\"getdata%2Fdata%2FEDSTATS_Country.csv\")\n",
    "FEDSTATS.dropna(axis=1, how='all', inplace=True)\n",
    "FEDSTATS.head()"
   ]
  },
  {
   "cell_type": "code",
   "execution_count": 32,
   "metadata": {
    "collapsed": false
   },
   "outputs": [
    {
     "data": {
      "text/plain": [
       "(190, 5)"
      ]
     },
     "execution_count": 32,
     "metadata": {},
     "output_type": "execute_result"
    }
   ],
   "source": [
    "GDP.shape"
   ]
  },
  {
   "cell_type": "code",
   "execution_count": 11,
   "metadata": {
    "collapsed": false
   },
   "outputs": [],
   "source": [
    "Data_Merge = pd.merge(GDP, FEDSTATS, how='inner', on='CountryCode')\n",
    "merge_key = ['CountryCode', 'Size', 'Short Name', 'Rank', 'Income Group']\n",
    "Data_Merge = Data_Merge[merge_key]\n",
    "\n",
    "# Reformat the Size column 123,456 -> 123456\n",
    "Data_Merge.Size = Data_Merge.Size.str.replace(\",\", \"\")\n",
    "Data_Merge.Size = Data_Merge.Size.convert_objects(convert_numeric=True)\n",
    "\n",
    "# Resort the Data Frame by Size and CountryCode in an ascending order\n",
    "Data_Merge.sort(['Size', 'CountryCode'], ascending=[True, True], inplace=True)\n",
    "\n",
    "# Reset the index of the Data Frame\n",
    "Data_Merge.set_index(np.arange(len(Data_Merge)) + 1, inplace=True)"
   ]
  },
  {
   "cell_type": "code",
   "execution_count": 12,
   "metadata": {
    "collapsed": false
   },
   "outputs": [
    {
     "data": {
      "text/plain": [
       "CountryCode                     KNA\n",
       "Size                            767\n",
       "Short Name      St. Kitts and Nevis\n",
       "Rank                            178\n",
       "Income Group    Upper middle income\n",
       "Name: 13, dtype: object"
      ]
     },
     "execution_count": 12,
     "metadata": {},
     "output_type": "execute_result"
    }
   ],
   "source": [
    "Data_Merge.loc[13]"
   ]
  },
  {
   "cell_type": "code",
   "execution_count": 8,
   "metadata": {
    "collapsed": true
   },
   "outputs": [],
   "source": [
    "os.remove(\"getdata%2Fdata%2FEDSTATS_Country.csv\")\n",
    "os.remove(\"getdata%2Fdata%2FGDP.csv\")"
   ]
  },
  {
   "cell_type": "markdown",
   "metadata": {
    "collapsed": true
   },
   "source": [
    "R:  \n",
    "\n",
    "    # read the data\n",
    "    names <- c(\"CountryCode\", \"Ranking\", \"X\", \"Economy\", \"Size\", \"X.1\", \"X.2\", \"X.3\", \"X.4\", \"X.5\")\n",
    "    GDP <- read.csv(\"getdata%2Fdata%2FGDP.csv\", skip = 4, col.names = names)\n",
    "    FEDSTATS <- read.csv(\"getdata%2Fdata%2FEDSTATS_Country.csv\")\n",
    "    \n",
    "    # merge the data\n",
    "    Data_Merge <- merge(GDP, FEDSTATS, by=\"CountryCode\")\n",
    "    \n",
    "    # convert the column $Size to numeric from factor\n",
    "    Data_Merge$Size <- as.numeric(gsub(\",\", \"\", as.character(Data_Merge$Size)))\n",
    "    \n",
    "    merge_keys <- c(\"CountryCode\",\"Size\",\"Short.Name\", \"Ranking\", \"Income.Group\")\n",
    "    Data_Merge <- Data_Merge[merge_keys]\n",
    "    \n",
    "    Data_Merge[ order(Data_Merge$Size, Data_Merge$CountryCode), ]"
   ]
  },
  {
   "cell_type": "markdown",
   "metadata": {},
   "source": [
    "### Question 4\n",
    "\n",
    "What is the average GDP ranking for the \"High income: OECD\" and \"High income: nonOECD\" group?"
   ]
  },
  {
   "cell_type": "code",
   "execution_count": 13,
   "metadata": {
    "collapsed": false
   },
   "outputs": [
    {
     "data": {
      "text/html": [
       "<div style=\"max-height:1000px;max-width:1500px;overflow:auto;\">\n",
       "<table border=\"1\" class=\"dataframe\">\n",
       "  <thead>\n",
       "    <tr style=\"text-align: right;\">\n",
       "      <th></th>\n",
       "      <th>Income Group</th>\n",
       "      <th>avg</th>\n",
       "    </tr>\n",
       "  </thead>\n",
       "  <tbody>\n",
       "    <tr>\n",
       "      <th>1 </th>\n",
       "      <td>  Lower middle income</td>\n",
       "      <td> 107.703704</td>\n",
       "    </tr>\n",
       "    <tr>\n",
       "      <th>4 </th>\n",
       "      <td>  Upper middle income</td>\n",
       "      <td>  92.133333</td>\n",
       "    </tr>\n",
       "    <tr>\n",
       "      <th>9 </th>\n",
       "      <td>           Low income</td>\n",
       "      <td> 133.729730</td>\n",
       "    </tr>\n",
       "    <tr>\n",
       "      <th>30</th>\n",
       "      <td> High income: nonOECD</td>\n",
       "      <td>  91.913043</td>\n",
       "    </tr>\n",
       "    <tr>\n",
       "      <th>68</th>\n",
       "      <td>    High income: OECD</td>\n",
       "      <td>  32.966667</td>\n",
       "    </tr>\n",
       "  </tbody>\n",
       "</table>\n",
       "<p>5 rows × 2 columns</p>\n",
       "</div>"
      ],
      "text/plain": [
       "            Income Group         avg\n",
       "1    Lower middle income  107.703704\n",
       "4    Upper middle income   92.133333\n",
       "9             Low income  133.729730\n",
       "30  High income: nonOECD   91.913043\n",
       "68     High income: OECD   32.966667\n",
       "\n",
       "[5 rows x 2 columns]"
      ]
     },
     "execution_count": 13,
     "metadata": {},
     "output_type": "execute_result"
    }
   ],
   "source": [
    "# define a function that calculates the average ranking based on the \"Income Group\"\n",
    "def ranker(df):\n",
    "    df['avg'] = np.average(df.Rank)\n",
    "    return df\n",
    "\n",
    "Data_Merge.Rank = Data_Merge.Rank.convert_objects(convert_numeric=True)\n",
    "\n",
    "# group the data by \"Income Group\" and calculate the average ranking\n",
    "DF4 = Data_Merge.groupby(\"Income Group\").apply(ranker)\n",
    "\n",
    "# show the result\n",
    "DF4 = DF4.loc[:, [\"Income Group\", \"avg\"]]\n",
    "DF4.drop_duplicates()"
   ]
  },
  {
   "cell_type": "markdown",
   "metadata": {},
   "source": [
    "R:\n",
    "\n",
    "    # convert the $Ranking to numeric and remove the NA terms\n",
    "    Data_Merge$Ranking <- as.numeric( levels(Data_Merge$Ranking) )[ Data_Merge$Ranking ]\n",
    "    Data_Merge <- subset(Data_Merge, !is.na(Data_Merge$Ranking))\n",
    "    \n",
    "    ranker <- function(df) {\n",
    "        df$avg <- ave(df$Ranking)\n",
    "    }\n",
    "    DF4 <- lapply( split(Data_Merge, Data_Merge$Income.Group), ranker )\n",
    "    DF4[\"High income:OECD\"][\"avg\"]\n",
    "    DF4[\"High income:nonOECD\"][\"avg\"]"
   ]
  },
  {
   "cell_type": "markdown",
   "metadata": {},
   "source": [
    "### Question 5\n",
    "\n",
    "Cut the GDP ranking into 5 separate quantile groups. Make a table versus Income.Group. How many countries are Lower middle income but among the 38 nations with highest GDP?"
   ]
  },
  {
   "cell_type": "code",
   "execution_count": 7,
   "metadata": {
    "collapsed": false
   },
   "outputs": [
    {
     "data": {
      "text/plain": [
       "False    185\n",
       "True       5\n",
       "dtype: int64"
      ]
     },
     "execution_count": 7,
     "metadata": {},
     "output_type": "execute_result"
    }
   ],
   "source": [
    "levels = 5\n",
    "\n",
    "## Solution 1\n",
    "Data_Merge['quant'] = pd.qcut(Data_Merge.Rank, levels)\n",
    "Data_Merge['cat'] = pd.Categorical.from_array(Data_Merge.quant).labels\n",
    "del Data_Merge['quant']\n",
    "\n",
    "# the highest GDP has 'cat' equal to levels - 1\n",
    "len(Data_Merge[ (Data_Merge.cat == (levels - 1)) & (Data_Merge['Income Group'] == 'Lower middle income') ])\n",
    "######\n",
    "\n",
    "## Solution 2\n",
    "First38 = Data_Merge[ Data_Merge.Rank < Data_Merge.Rank.quantile(38.0/len(Data_Merge)) ]\n",
    "len(First38[ First38['Income Group'] == \"Lower middle income\" ])\n",
    "######\n",
    "\n",
    "# Solution 3\n",
    "# Bin the Data_Merge, this is BETTER than Solution 1\n",
    "bins_35 = pd.qcut(Data_Merge.Rank, levels, retbins=True)[1]\n",
    "Labels = range(levels)\n",
    "Data_Merge['cat'] = pd.cut(Data_Merge.Rank, bins_35, labels=Labels)\n",
    "pd.value_counts( (Data_Merge.cat == 0) & (Data_Merge[\"Income Group\"] == \"Lower middle income\") )"
   ]
  },
  {
   "cell_type": "markdown",
   "metadata": {},
   "source": [
    "R:  \n",
    "\n",
    "    num_levels <- 5\n",
    "    quantile_rank <- quantile( Data_Merge$Ranking, probs=seq(0, 1, 1/num_levels) )\n",
    "    cat <- cut( Data_Merge$Ranking, quantile_rank, include.lowest = TRUE )\n",
    "    table <- split( Data_Merge$Income.Group, cat )[ [ levels(cat)[1] ] ]\n",
    "    length( table[ table == \"Lower middle income\" ] )"
   ]
  },
  {
   "cell_type": "markdown",
   "metadata": {},
   "source": [
    "# Quiz 4"
   ]
  },
  {
   "cell_type": "markdown",
   "metadata": {},
   "source": [
    "### Question 1\n",
    "The American Community Survey distributes downloadable data about United States communities. Download the 2006 microdata survey about housing for the state of Idaho using download.file() from here: \n",
    "\n",
    "https://d396qusza40orc.cloudfront.net/getdata%2Fdata%2Fss06hid.csv \n",
    "\n",
    "and load the data into R. The code book, describing the variable names is here: \n",
    "\n",
    "https://d396qusza40orc.cloudfront.net/getdata%2Fdata%2FPUMSDataDict06.pdf \n",
    "\n",
    "Apply strsplit() to split all the names of the data frame on the characters \"wgtp\". What is the value of the 123 element of the resulting list?"
   ]
  },
  {
   "cell_type": "code",
   "execution_count": 21,
   "metadata": {
    "collapsed": false
   },
   "outputs": [],
   "source": [
    "# Download the files:\n",
    "url1 = \"https://d396qusza40orc.cloudfront.net/getdata%2Fdata%2Fss06hid.csv\"\n",
    "\n",
    "csv_file = url1.split('/')[-1]\n",
    "if not os.path.exists(csv_file):\n",
    "    urllib.urlretrieve(url1, csv_file)"
   ]
  },
  {
   "cell_type": "code",
   "execution_count": 22,
   "metadata": {
    "collapsed": false
   },
   "outputs": [
    {
     "data": {
      "text/plain": [
       "'15'"
      ]
     },
     "execution_count": 22,
     "metadata": {},
     "output_type": "execute_result"
    }
   ],
   "source": [
    "data_41 = pd.read_csv(csv_file)\n",
    "names_41 = data_41.columns.values.astype(str)\n",
    "\n",
    "lst = []\n",
    "for element in names_41:\n",
    "    lst.append(element.split(\"wgtp\")[-1])\n",
    "    \n",
    "lst[122]"
   ]
  },
  {
   "cell_type": "code",
   "execution_count": 23,
   "metadata": {
    "collapsed": true
   },
   "outputs": [],
   "source": [
    "os.remove(csv_file)"
   ]
  },
  {
   "cell_type": "markdown",
   "metadata": {},
   "source": [
    "### Question 2  \n",
    "Load the Gross Domestic Product data for the 190 ranked countries in this data set: \n",
    "\n",
    "https://d396qusza40orc.cloudfront.net/getdata%2Fdata%2FGDP.csv \n",
    "\n",
    "Remove the commas from the GDP numbers in millions of dollars and average them. What is the average? \n",
    "\n",
    "Original data sources: http://data.worldbank.org/data-catalog/GDP-ranking-table"
   ]
  },
  {
   "cell_type": "code",
   "execution_count": 9,
   "metadata": {
    "collapsed": false
   },
   "outputs": [
    {
     "data": {
      "text/plain": [
       "1453710.2205882352"
      ]
     },
     "execution_count": 9,
     "metadata": {},
     "output_type": "execute_result"
    }
   ],
   "source": [
    "url1 = \"https://d396qusza40orc.cloudfront.net/getdata%2Fdata%2FGDP.csv\"\n",
    "\n",
    "response = urllib2.urlopen(url1)\n",
    "df = pd.read_csv(response, names=names, skiprows=5)\n",
    "\n",
    "df.Size = df.Size.str.replace(\",\", \"\")\n",
    "df.Size = df.Size.convert_objects(convert_numeric=True)\n",
    "\n",
    "np.average(df.Size[~df.Size.isnull()])"
   ]
  },
  {
   "cell_type": "markdown",
   "metadata": {},
   "source": [
    "R:  \n",
    "\n",
    "    tmp <- strsplit(url1, \"/\")[[1]]\n",
    "    dest_file <- tmp[length(tmp)]\n",
    "    download.file(url1, tmp)\n",
    "    \n",
    "    names <- c(\"CountryCode\", \"Ranking\", \"X\", \"Economy\", \"Size\", \"X.1\", \"X.2\", \"X.3\", \"X.4\", \"X.5\")\n",
    "    df <- read.csv(tmp, skip=4, col.names=names)\n",
    "    df$Size <- as.numeric(gsub(\",\", \"\", as.character(df$Size)))\n",
    "    \n",
    "    mean(df$Size, na.rm=T)"
   ]
  },
  {
   "cell_type": "markdown",
   "metadata": {},
   "source": [
    "### Question 3\n",
    "In the data set from Question 2 what is a regular expression that would allow you to count the number of countries whose name begins with \"United\"? Assume that the variable with the country names in it is named countryNames. How many countries begin with United?"
   ]
  },
  {
   "cell_type": "code",
   "execution_count": 10,
   "metadata": {
    "collapsed": false
   },
   "outputs": [
    {
     "data": {
      "text/plain": [
       "False    225\n",
       "True       3\n",
       "dtype: int64"
      ]
     },
     "execution_count": 10,
     "metadata": {},
     "output_type": "execute_result"
    }
   ],
   "source": [
    "target_str = \"^United\"\n",
    "pd.value_counts(df.Economy.str.match(target_str))"
   ]
  },
  {
   "cell_type": "markdown",
   "metadata": {},
   "source": [
    "R:\n",
    "\n",
    "    grep(\"^United\", countryNames)"
   ]
  },
  {
   "cell_type": "markdown",
   "metadata": {},
   "source": [
    "### Question 4\n",
    "Load the Gross Domestic Product data for the 190 ranked countries in this data set: \n",
    "\n",
    "https://d396qusza40orc.cloudfront.net/getdata%2Fdata%2FGDP.csv \n",
    "\n",
    "Load the educational data from this data set: \n",
    "\n",
    "https://d396qusza40orc.cloudfront.net/getdata%2Fdata%2FEDSTATS_Country.csv \n",
    "\n",
    "Match the data based on the country shortcode. Of the countries for which the end of the fiscal year is available, how many end in June? "
   ]
  },
  {
   "cell_type": "code",
   "execution_count": 14,
   "metadata": {
    "collapsed": false
   },
   "outputs": [
    {
     "data": {
      "text/plain": [
       "(224, 40)"
      ]
     },
     "execution_count": 14,
     "metadata": {},
     "output_type": "execute_result"
    }
   ],
   "source": [
    "url1 = \"https://d396qusza40orc.cloudfront.net/getdata%2Fdata%2FGDP.csv\"\n",
    "url2 = \"https://d396qusza40orc.cloudfront.net/getdata%2Fdata%2FEDSTATS_Country.csv\"\n",
    "\n",
    "response1 = urllib2.urlopen(url1)\n",
    "response2 = urllib2.urlopen(url2)\n",
    "\n",
    "GDP44 = pd.read_csv(response1, skiprows=5, names=names)\n",
    "FEDSTATS44 = pd.read_csv(response2)\n",
    "\n",
    "Data_Merge_44 = pd.merge(GDP44, FEDSTATS44, how='inner', on=\"CountryCode\")\n",
    "Data_Merge_44.shape"
   ]
  },
  {
   "cell_type": "code",
   "execution_count": 17,
   "metadata": {
    "collapsed": false
   },
   "outputs": [
    {
     "data": {
      "text/plain": [
       "False    211\n",
       "True      13\n",
       "dtype: int64"
      ]
     },
     "execution_count": 17,
     "metadata": {},
     "output_type": "execute_result"
    }
   ],
   "source": [
    "crit = ( ~Data_Merge_44['Special Notes'].isnull() ) & ( Data_Merge_44['Special Notes'].str.match(\"(.*) end(.*)June (.*)\") )\n",
    "pd.value_counts(crit)"
   ]
  },
  {
   "cell_type": "code",
   "execution_count": 18,
   "metadata": {
    "collapsed": false
   },
   "outputs": [
    {
     "data": {
      "text/html": [
       "<div style=\"max-height:1000px;max-width:1500px;overflow:auto;\">\n",
       "<table border=\"1\" class=\"dataframe\">\n",
       "  <thead>\n",
       "    <tr style=\"text-align: right;\">\n",
       "      <th></th>\n",
       "      <th>CountryCode</th>\n",
       "      <th>Special Notes</th>\n",
       "    </tr>\n",
       "  </thead>\n",
       "  <tbody>\n",
       "    <tr>\n",
       "      <th>11 </th>\n",
       "      <td> AUS</td>\n",
       "      <td> Fiscal year end: June 30; reporting period for...</td>\n",
       "    </tr>\n",
       "    <tr>\n",
       "      <th>20 </th>\n",
       "      <td> SWE</td>\n",
       "      <td> Fiscal year end: June 30; reporting period for...</td>\n",
       "    </tr>\n",
       "    <tr>\n",
       "      <th>37 </th>\n",
       "      <td> EGY</td>\n",
       "      <td> Fiscal year end: June 30; reporting period for...</td>\n",
       "    </tr>\n",
       "    <tr>\n",
       "      <th>43 </th>\n",
       "      <td> PAK</td>\n",
       "      <td> Fiscal year end: June 30; reporting period for...</td>\n",
       "    </tr>\n",
       "    <tr>\n",
       "      <th>55 </th>\n",
       "      <td> KWT</td>\n",
       "      <td> Fiscal year end: June 30; reporting period for...</td>\n",
       "    </tr>\n",
       "    <tr>\n",
       "      <th>58 </th>\n",
       "      <td> BGD</td>\n",
       "      <td> Fiscal year end: June 30; reporting period for...</td>\n",
       "    </tr>\n",
       "    <tr>\n",
       "      <th>60 </th>\n",
       "      <td> PRI</td>\n",
       "      <td> Fiscal year end: June 30; reporting period for...</td>\n",
       "    </tr>\n",
       "    <tr>\n",
       "      <th>86 </th>\n",
       "      <td> KEN</td>\n",
       "      <td> Fiscal year end: June 30; reporting period for...</td>\n",
       "    </tr>\n",
       "    <tr>\n",
       "      <th>105</th>\n",
       "      <td> UGA</td>\n",
       "      <td> Fiscal year end: June 30; reporting period for...</td>\n",
       "    </tr>\n",
       "    <tr>\n",
       "      <th>116</th>\n",
       "      <td> BWA</td>\n",
       "      <td> Fiscal year end: June 30; reporting period for...</td>\n",
       "    </tr>\n",
       "    <tr>\n",
       "      <th>132</th>\n",
       "      <td> ZWE</td>\n",
       "      <td> Fiscal year end: June 30; reporting period for...</td>\n",
       "    </tr>\n",
       "    <tr>\n",
       "      <th>155</th>\n",
       "      <td> SLE</td>\n",
       "      <td> Fiscal year end: June 30; reporting period for...</td>\n",
       "    </tr>\n",
       "    <tr>\n",
       "      <th>173</th>\n",
       "      <td> GMB</td>\n",
       "      <td> Fiscal year end: June 30; reporting period for...</td>\n",
       "    </tr>\n",
       "  </tbody>\n",
       "</table>\n",
       "<p>13 rows × 2 columns</p>\n",
       "</div>"
      ],
      "text/plain": [
       "    CountryCode                                      Special Notes\n",
       "11          AUS  Fiscal year end: June 30; reporting period for...\n",
       "20          SWE  Fiscal year end: June 30; reporting period for...\n",
       "37          EGY  Fiscal year end: June 30; reporting period for...\n",
       "43          PAK  Fiscal year end: June 30; reporting period for...\n",
       "55          KWT  Fiscal year end: June 30; reporting period for...\n",
       "58          BGD  Fiscal year end: June 30; reporting period for...\n",
       "60          PRI  Fiscal year end: June 30; reporting period for...\n",
       "86          KEN  Fiscal year end: June 30; reporting period for...\n",
       "105         UGA  Fiscal year end: June 30; reporting period for...\n",
       "116         BWA  Fiscal year end: June 30; reporting period for...\n",
       "132         ZWE  Fiscal year end: June 30; reporting period for...\n",
       "155         SLE  Fiscal year end: June 30; reporting period for...\n",
       "173         GMB  Fiscal year end: June 30; reporting period for...\n",
       "\n",
       "[13 rows x 2 columns]"
      ]
     },
     "execution_count": 18,
     "metadata": {},
     "output_type": "execute_result"
    }
   ],
   "source": [
    "Data_Merge_44.loc[crit, [\"CountryCode\", \"Special Notes\"]]"
   ]
  },
  {
   "cell_type": "markdown",
   "metadata": {},
   "source": [
    "R:\n",
    "\n",
    "    "
   ]
  },
  {
   "cell_type": "markdown",
   "metadata": {},
   "source": [
    "### Question 5\n",
    "You can use the quantmod (http://www.quantmod.com/) package to get historical stock prices for publicly traded companies on the NASDAQ and NYSE. Use the following code to download data on Amazon's stock price and get the times the data was sampled.\n",
    "\n",
    "    library(quantmod)\n",
    "    amzn = getSymbols(\"AMZN\",auto.assign=FALSE)\n",
    "    sampleTimes = index(amzn) "
   ]
  },
  {
   "cell_type": "code",
   "execution_count": 2,
   "metadata": {
    "collapsed": true
   },
   "outputs": [],
   "source": [
    "amzn = data.DataReader(\"AMZN\", \"yahoo\")"
   ]
  },
  {
   "cell_type": "markdown",
   "metadata": {},
   "source": [
    "R:\n",
    "\n",
    "    length(grep(\"^2012\", sampleTimes))"
   ]
  },
  {
   "cell_type": "code",
   "execution_count": null,
   "metadata": {
    "collapsed": true
   },
   "outputs": [],
   "source": []
  }
 ],
 "metadata": {
  "kernelspec": {
   "display_name": "Python 2",
   "language": "python",
   "name": "python2"
  },
  "language_info": {
   "codemirror_mode": {
    "name": "ipython",
    "version": 2
   },
   "file_extension": ".py",
   "mimetype": "text/x-python",
   "name": "python",
   "nbconvert_exporter": "python",
   "pygments_lexer": "ipython2",
   "version": "2.7.6"
  }
 },
 "nbformat": 4,
 "nbformat_minor": 0
}
